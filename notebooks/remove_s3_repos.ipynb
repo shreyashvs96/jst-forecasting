{
 "cells": [
  {
   "cell_type": "code",
   "execution_count": 1,
   "id": "77119e11-2795-45ce-bdaa-92e53f55a10e",
   "metadata": {
    "tags": []
   },
   "outputs": [
    {
     "data": {
      "text/plain": [
       "['tensorflow-training-2024-10-25-01-57-58-027/',\n",
       " 'tensorflow-training-2024-10-25-02-07-05-264/',\n",
       " 'tensorflow-training-2024-10-25-02-23-58-460/',\n",
       " 'tensorflow-training-2024-10-25-02-44-43-343/',\n",
       " 'tensorflow-training-2024-10-25-02-58-30-102/']"
      ]
     },
     "execution_count": 1,
     "metadata": {},
     "output_type": "execute_result"
    }
   ],
   "source": [
    "import boto3\n",
    "\n",
    "s3 = boto3.client('s3')\n",
    "\n",
    "# Use the list_objects_v2 function to list objects with a specific prefix\n",
    "prefix1 = \"supply_chain_data_asset_shr/training/jane_st_forecasting/tensorflow\"\n",
    "prefix2 = \"tensorflow\"\n",
    "response = s3.list_objects_v2(Bucket=\"kedrobucket\", Prefix=prefix2, Delimiter=\"/\")\n",
    "del_subfolders = [c[\"Prefix\"] for c in response[\"CommonPrefixes\"]]\n",
    "del_subfolders"
   ]
  },
  {
   "cell_type": "code",
   "execution_count": 2,
   "id": "bf879469-b1f8-44a9-aea3-47b62ed5c996",
   "metadata": {
    "tags": []
   },
   "outputs": [
    {
     "name": "stdout",
     "output_type": "stream",
     "text": [
      "delete: s3://kedrobucket/tensorflow-training-2024-10-25-01-57-58-027/source/sourcedir.tar.gz\n",
      "delete: s3://kedrobucket/tensorflow-training-2024-10-25-02-07-05-264/source/sourcedir.tar.gz\n",
      "delete: s3://kedrobucket/tensorflow-training-2024-10-25-02-23-58-460/source/sourcedir.tar.gz\n",
      "delete: s3://kedrobucket/tensorflow-training-2024-10-25-02-44-43-343/source/sourcedir.tar.gz\n",
      "delete: s3://kedrobucket/tensorflow-training-2024-10-25-02-58-30-102/source/sourcedir.tar.gz\n"
     ]
    }
   ],
   "source": [
    "for subfolder in del_subfolders:\n",
    "    !aws s3 rm s3://kedrobucket/{subfolder} --recursive"
   ]
  }
 ],
 "metadata": {
  "kernelspec": {
   "display_name": "conda_python3",
   "language": "python",
   "name": "conda_python3"
  },
  "language_info": {
   "codemirror_mode": {
    "name": "ipython",
    "version": 3
   },
   "file_extension": ".py",
   "mimetype": "text/x-python",
   "name": "python",
   "nbconvert_exporter": "python",
   "pygments_lexer": "ipython3",
   "version": "3.10.15"
  }
 },
 "nbformat": 4,
 "nbformat_minor": 5
}
