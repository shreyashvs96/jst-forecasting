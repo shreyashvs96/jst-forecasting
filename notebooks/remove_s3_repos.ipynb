{
 "cells": [
  {
   "cell_type": "code",
   "execution_count": 13,
   "id": "77119e11-2795-45ce-bdaa-92e53f55a10e",
   "metadata": {
    "tags": []
   },
   "outputs": [
    {
     "data": {
      "text/plain": [
       "['tensorflow-training-2024-10-23-21-01-44-364',\n",
       " 'tensorflow-training-2024-10-25-00-54-23-295',\n",
       " 'tensorflow-training-2024-10-23-22-08-07-030',\n",
       " 'tensorflow-training-2024-10-23-22-07-46-795',\n",
       " 'tensorflow-training-2024-10-25-00-48-22-146',\n",
       " 'tensorflow-training-2024-10-23-13-05-18-779',\n",
       " 'tensorflow-training-2024-10-25-01-06-43-368',\n",
       " 'tensorflow-training-2024-10-23-12-43-49-358',\n",
       " 'tensorflow-training-2024-10-23-22-43-18-244',\n",
       " 'tensorflow-training-2024-10-23-22-16-49-938',\n",
       " 'tensorflow-training-2024-10-25-00-56-22-076',\n",
       " 'tensorflow-training-2024-10-23-22-56-46-043',\n",
       " 'tensorflow-training-2024-10-23-12-49-16-212',\n",
       " 'tensorflow-training-2024-10-23-22-35-52-962',\n",
       " 'tensorflow-training-2024-10-23-21-28-20-757',\n",
       " 'tensorflow-training-2024-10-23-21-03-28-265']"
      ]
     },
     "execution_count": 13,
     "metadata": {},
     "output_type": "execute_result"
    }
   ],
   "source": [
    "import boto3\n",
    "\n",
    "s3 = boto3.client('s3')\n",
    "\n",
    "# Use the list_objects_v2 function to list objects with a specific prefix\n",
    "response = s3.list_objects_v2(Bucket=\"kedrobucket\", Prefix=\"tensorflow\")\n",
    "del_subfolders = list(set(c[\"Key\"].split(\"/\")[0] for c in response[\"Contents\"]))[:-3]\n",
    "del_subfolders"
   ]
  },
  {
   "cell_type": "code",
   "execution_count": 14,
   "id": "bf879469-b1f8-44a9-aea3-47b62ed5c996",
   "metadata": {
    "tags": []
   },
   "outputs": [
    {
     "name": "stdout",
     "output_type": "stream",
     "text": [
      "delete: s3://kedrobucket/tensorflow-training-2024-10-23-21-01-44-364/source/sourcedir.tar.gz\n",
      "delete: s3://kedrobucket/tensorflow-training-2024-10-25-00-54-23-295/source/sourcedir.tar.gz\n",
      "delete: s3://kedrobucket/tensorflow-training-2024-10-23-22-08-07-030/source/sourcedir.tar.gz\n",
      "delete: s3://kedrobucket/tensorflow-training-2024-10-23-22-07-46-795/source/sourcedir.tar.gz\n",
      "delete: s3://kedrobucket/tensorflow-training-2024-10-25-00-48-22-146/source/sourcedir.tar.gz\n",
      "delete: s3://kedrobucket/tensorflow-training-2024-10-23-13-05-18-779/source/sourcedir.tar.gz\n",
      "delete: s3://kedrobucket/tensorflow-training-2024-10-25-01-06-43-368/source/sourcedir.tar.gz\n",
      "delete: s3://kedrobucket/tensorflow-training-2024-10-23-12-43-49-358/source/sourcedir.tar.gz\n",
      "delete: s3://kedrobucket/tensorflow-training-2024-10-23-22-43-18-244/source/sourcedir.tar.gz\n",
      "delete: s3://kedrobucket/tensorflow-training-2024-10-23-22-16-49-938/source/sourcedir.tar.gz\n",
      "delete: s3://kedrobucket/tensorflow-training-2024-10-25-00-56-22-076/source/sourcedir.tar.gz\n",
      "delete: s3://kedrobucket/tensorflow-training-2024-10-23-22-56-46-043/source/sourcedir.tar.gz\n",
      "delete: s3://kedrobucket/tensorflow-training-2024-10-23-12-49-16-212/source/sourcedir.tar.gz\n",
      "delete: s3://kedrobucket/tensorflow-training-2024-10-23-22-35-52-962/source/sourcedir.tar.gz\n",
      "delete: s3://kedrobucket/tensorflow-training-2024-10-23-21-28-20-757/source/sourcedir.tar.gz\n",
      "delete: s3://kedrobucket/tensorflow-training-2024-10-23-21-03-28-265/source/sourcedir.tar.gz\n"
     ]
    }
   ],
   "source": [
    "for subfolder in del_subfolders:\n",
    "    !aws s3 rm s3://kedrobucket/{subfolder} --recursive"
   ]
  },
  {
   "cell_type": "code",
   "execution_count": null,
   "id": "f537ee08-2649-4abd-8ba6-f903ef08243d",
   "metadata": {},
   "outputs": [],
   "source": []
  }
 ],
 "metadata": {
  "kernelspec": {
   "display_name": "conda_python3",
   "language": "python",
   "name": "conda_python3"
  },
  "language_info": {
   "codemirror_mode": {
    "name": "ipython",
    "version": 3
   },
   "file_extension": ".py",
   "mimetype": "text/x-python",
   "name": "python",
   "nbconvert_exporter": "python",
   "pygments_lexer": "ipython3",
   "version": "3.10.15"
  }
 },
 "nbformat": 4,
 "nbformat_minor": 5
}
